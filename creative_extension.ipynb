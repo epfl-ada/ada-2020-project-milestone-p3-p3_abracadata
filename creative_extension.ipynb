{
 "cells": [
  {
   "cell_type": "markdown",
   "metadata": {},
   "source": [
    "# Project Milestone P4 - Creative extension\n",
    "\n",
    "## Goals\n",
    "\n",
    "This notebook is a creative extension concerning the article _Comparing Random Forest with Logistic Regression for\n",
    "Predicting Class-Imbalanced Civil War Onset Data_ by D.Muchlinski et al (2016).\n",
    "\n",
    "We aim to do 3 tasks :\n",
    "\n",
    "1. Train new classifiers and compare their performance related to the Random Forest and Logistic Regressions that were tested in the paper.\n",
    "2. Balance the dataset using the SMOTE to assess how data augmentation and resampling help the predictions of these classifiers.\n",
    "3. Bringing a new dataset - the Urban Social Disorder (USB) dataset - assess how well the features of the Civil War Dataset (CWD) can predict urban unrest.\n",
    "\n",
    "## Imports\n",
    "\n",
    "- Scikit-learn : Scikit will allow us to easily import all the classifiers we want to assess and to compute multiple metrics to compare them\n",
    "- Numpy : The standard Python library to manipulate matrices\n",
    "- Pandas : The standard Python library to manipulate datasets\n",
    "- imblearn : The Imbalance Learn package will allow us to use the SMOTE algorithm\n",
    "- Matplotlib : It will allow us to produce figures to visualize our results\n",
    "- Seaborn : It will also allow us to produce figures"
   ]
  },
  {
   "cell_type": "code",
   "execution_count": 1,
   "metadata": {},
   "outputs": [],
   "source": [
    "import pandas as pd\n",
    "import numpy as np\n",
    "import matplotlib.pyplot as plt\n",
    "import seaborn as sns\n",
    "from scipy import stats\n",
    "from sklearn.linear_model import LinearRegression, LogisticRegression, Ridge\n",
    "from sklearn.ensemble import RandomForestClassifier\n",
    "from sklearn.model_selection import cross_val_predict, cross_val_score\n",
    "from sklearn.metrics import auc, roc_curve, f1_score\n",
    "from sklearn.model_selection import train_test_split\n",
    "from imblearn.over_sampling import SMOTE\n",
    "from sklearn.ensemble import GradientBoostingClassifier\n",
    "from sklearn.neural_network import MLPClassifier\n",
    "from sklearn.preprocessing import StandardScaler\n",
    "%matplotlib inline"
   ]
  },
  {
   "cell_type": "markdown",
   "metadata": {},
   "source": [
    "## 1. Data Loading and preparation\n",
    "\n",
    "We first load the Civil War Dataset (CWD) using the `read_csv` function. Note that we only load the 91 features (stored in the `replication_features` list) that are used in the original paper.\n",
    "\n",
    "We directly divide this dataset into the feature vectors `X` and the label vector `y`. We then print the number of feature vectors and the first few ones to get a good grasp of their content"
   ]
  },
  {
   "cell_type": "code",
   "execution_count": 2,
   "metadata": {},
   "outputs": [
    {
     "name": "stdout",
     "output_type": "stream",
     "text": [
      "Nb of country-years: 7140\n"
     ]
    },
    {
     "data": {
      "text/html": [
       "<div>\n",
       "<style scoped>\n",
       "    .dataframe tbody tr th:only-of-type {\n",
       "        vertical-align: middle;\n",
       "    }\n",
       "\n",
       "    .dataframe tbody tr th {\n",
       "        vertical-align: top;\n",
       "    }\n",
       "\n",
       "    .dataframe thead th {\n",
       "        text-align: right;\n",
       "    }\n",
       "</style>\n",
       "<table border=\"1\" class=\"dataframe\">\n",
       "  <thead>\n",
       "    <tr style=\"text-align: right;\">\n",
       "      <th></th>\n",
       "      <th>ptime</th>\n",
       "      <th>autonomy</th>\n",
       "      <th>popdense</th>\n",
       "      <th>army85</th>\n",
       "      <th>milper</th>\n",
       "      <th>trade</th>\n",
       "      <th>nmgdp</th>\n",
       "      <th>autch98</th>\n",
       "      <th>demch98</th>\n",
       "      <th>polch98</th>\n",
       "      <th>...</th>\n",
       "      <th>mirps1</th>\n",
       "      <th>mirps2</th>\n",
       "      <th>mirps3</th>\n",
       "      <th>sxpsq</th>\n",
       "      <th>pol4sq</th>\n",
       "      <th>decade1</th>\n",
       "      <th>decade2</th>\n",
       "      <th>decade3</th>\n",
       "      <th>decade4</th>\n",
       "      <th>proxregc</th>\n",
       "    </tr>\n",
       "  </thead>\n",
       "  <tbody>\n",
       "    <tr>\n",
       "      <th>0</th>\n",
       "      <td>12</td>\n",
       "      <td>0.005151</td>\n",
       "      <td>118.554791</td>\n",
       "      <td>129472.9042</td>\n",
       "      <td>121.087366</td>\n",
       "      <td>72.881375</td>\n",
       "      <td>4508.131692</td>\n",
       "      <td>0</td>\n",
       "      <td>0</td>\n",
       "      <td>0</td>\n",
       "      <td>...</td>\n",
       "      <td>0.16935</td>\n",
       "      <td>0.313143</td>\n",
       "      <td>0.373714</td>\n",
       "      <td>0.052989</td>\n",
       "      <td>61.493014</td>\n",
       "      <td>0</td>\n",
       "      <td>0</td>\n",
       "      <td>0</td>\n",
       "      <td>0</td>\n",
       "      <td>0.143299</td>\n",
       "    </tr>\n",
       "    <tr>\n",
       "      <th>1</th>\n",
       "      <td>24</td>\n",
       "      <td>0.000000</td>\n",
       "      <td>117.756342</td>\n",
       "      <td>129413.0225</td>\n",
       "      <td>121.885359</td>\n",
       "      <td>72.900089</td>\n",
       "      <td>4491.340308</td>\n",
       "      <td>0</td>\n",
       "      <td>0</td>\n",
       "      <td>0</td>\n",
       "      <td>...</td>\n",
       "      <td>0.00000</td>\n",
       "      <td>1.000000</td>\n",
       "      <td>0.000000</td>\n",
       "      <td>0.052663</td>\n",
       "      <td>100.000000</td>\n",
       "      <td>0</td>\n",
       "      <td>0</td>\n",
       "      <td>0</td>\n",
       "      <td>0</td>\n",
       "      <td>1.000000</td>\n",
       "    </tr>\n",
       "    <tr>\n",
       "      <th>2</th>\n",
       "      <td>36</td>\n",
       "      <td>0.000000</td>\n",
       "      <td>118.280656</td>\n",
       "      <td>130431.0145</td>\n",
       "      <td>122.780608</td>\n",
       "      <td>72.962880</td>\n",
       "      <td>4484.267686</td>\n",
       "      <td>0</td>\n",
       "      <td>0</td>\n",
       "      <td>0</td>\n",
       "      <td>...</td>\n",
       "      <td>0.00000</td>\n",
       "      <td>1.000000</td>\n",
       "      <td>0.000000</td>\n",
       "      <td>0.052891</td>\n",
       "      <td>100.000000</td>\n",
       "      <td>0</td>\n",
       "      <td>0</td>\n",
       "      <td>0</td>\n",
       "      <td>0</td>\n",
       "      <td>1.000000</td>\n",
       "    </tr>\n",
       "    <tr>\n",
       "      <th>3</th>\n",
       "      <td>48</td>\n",
       "      <td>0.000000</td>\n",
       "      <td>118.325869</td>\n",
       "      <td>126781.6866</td>\n",
       "      <td>118.256427</td>\n",
       "      <td>73.102449</td>\n",
       "      <td>4474.082672</td>\n",
       "      <td>0</td>\n",
       "      <td>0</td>\n",
       "      <td>0</td>\n",
       "      <td>...</td>\n",
       "      <td>0.00000</td>\n",
       "      <td>1.000000</td>\n",
       "      <td>0.000000</td>\n",
       "      <td>0.052902</td>\n",
       "      <td>100.000000</td>\n",
       "      <td>0</td>\n",
       "      <td>0</td>\n",
       "      <td>0</td>\n",
       "      <td>0</td>\n",
       "      <td>1.000000</td>\n",
       "    </tr>\n",
       "    <tr>\n",
       "      <th>4</th>\n",
       "      <td>60</td>\n",
       "      <td>0.000000</td>\n",
       "      <td>118.312296</td>\n",
       "      <td>130979.2470</td>\n",
       "      <td>122.245074</td>\n",
       "      <td>72.850389</td>\n",
       "      <td>4497.299503</td>\n",
       "      <td>0</td>\n",
       "      <td>0</td>\n",
       "      <td>0</td>\n",
       "      <td>...</td>\n",
       "      <td>0.00000</td>\n",
       "      <td>1.000000</td>\n",
       "      <td>0.000000</td>\n",
       "      <td>0.052706</td>\n",
       "      <td>100.000000</td>\n",
       "      <td>0</td>\n",
       "      <td>0</td>\n",
       "      <td>0</td>\n",
       "      <td>0</td>\n",
       "      <td>1.000000</td>\n",
       "    </tr>\n",
       "  </tbody>\n",
       "</table>\n",
       "<p>5 rows × 90 columns</p>\n",
       "</div>"
      ],
      "text/plain": [
       "   ptime  autonomy    popdense       army85      milper      trade  \\\n",
       "0     12  0.005151  118.554791  129472.9042  121.087366  72.881375   \n",
       "1     24  0.000000  117.756342  129413.0225  121.885359  72.900089   \n",
       "2     36  0.000000  118.280656  130431.0145  122.780608  72.962880   \n",
       "3     48  0.000000  118.325869  126781.6866  118.256427  73.102449   \n",
       "4     60  0.000000  118.312296  130979.2470  122.245074  72.850389   \n",
       "\n",
       "         nmgdp  autch98  demch98  polch98  ...   mirps1    mirps2    mirps3  \\\n",
       "0  4508.131692        0        0        0  ...  0.16935  0.313143  0.373714   \n",
       "1  4491.340308        0        0        0  ...  0.00000  1.000000  0.000000   \n",
       "2  4484.267686        0        0        0  ...  0.00000  1.000000  0.000000   \n",
       "3  4474.082672        0        0        0  ...  0.00000  1.000000  0.000000   \n",
       "4  4497.299503        0        0        0  ...  0.00000  1.000000  0.000000   \n",
       "\n",
       "      sxpsq      pol4sq  decade1  decade2  decade3  decade4  proxregc  \n",
       "0  0.052989   61.493014        0        0        0        0  0.143299  \n",
       "1  0.052663  100.000000        0        0        0        0  1.000000  \n",
       "2  0.052891  100.000000        0        0        0        0  1.000000  \n",
       "3  0.052902  100.000000        0        0        0        0  1.000000  \n",
       "4  0.052706  100.000000        0        0        0        0  1.000000  \n",
       "\n",
       "[5 rows x 90 columns]"
      ]
     },
     "execution_count": 2,
     "metadata": {},
     "output_type": "execute_result"
    }
   ],
   "source": [
    "replication_features = [\"warstds\", \"ager\", \"agexp\", \"anoc\", \"army85\", \"autch98\", \"auto4\",\n",
    "    \"autonomy\", \"avgnabo\", \"centpol3\", \"coldwar\", \"decade1\", \"decade2\",\n",
    "    \"decade3\", \"decade4\", \"dem\", \"dem4\", \"demch98\", \"dlang\", \"drel\", \"durable\",\n",
    "    \"ef\", \"ef2\", \"ehet\", \"elfo\", \"elfo2\", \"etdo4590\", \"expgdp\", \"exrec\",\n",
    "    \"fedpol3\", \"fuelexp\", \"gdpgrowth\", \"geo1\", \"geo2\", \"geo34\", \"geo57\",\n",
    "    \"geo69\", \"geo8\", \"illiteracy\", \"incumb\", \"infant\", \"inst\", \"inst3\", \"life\",\n",
    "    \"lmtnest\", \"ln_gdpen\", \"lpopns\", \"major\", \"manuexp\", \"milper\", \"mirps0\",\n",
    "    \"mirps1\", \"mirps2\", \"mirps3\", \"nat_war\", \"ncontig\", \"nmgdp\", \"nmdp4_alt\",\n",
    "    \"numlang\", \"nwstate\", \"oil\", \"p4mchg\", \"parcomp\", \"parreg\", \"part\",\n",
    "    \"partfree\", \"plural\", \"plurrel\", \"pol4\", \"pol4m\", \"pol4sq\", \"polch98\",\n",
    "    \"polcomp\", \"popdense\", \"presi\", \"pri\", \"proxregc\", \"ptime\", \"reg\",\n",
    "    \"regd4_alt\", \"relfrac\", \"seceduc\", \"second\", \"semipol3\", \"sip2\", \"sxpnew\",\n",
    "    \"sxpsq\", \"tnatwar\", \"trade\", \"warhist\", \"xconst\"]\n",
    "\n",
    "cwd = pd.read_csv('data/SambnisImp.csv', usecols=replication_features)\n",
    "\n",
    "# Retreiving the labels\n",
    "y = cwd['warstds']\n",
    "X = cwd.drop('warstds', axis=1)\n",
    "\n",
    "print('Nb of country-years: {}'.format(len(X)))\n",
    "X.head()"
   ]
  },
  {
   "cell_type": "markdown",
   "metadata": {},
   "source": [
    "Here we simply verify that there are no missing data in the CWD. As the value is 0, it means that there are no missing data."
   ]
  },
  {
   "cell_type": "code",
   "execution_count": 3,
   "metadata": {},
   "outputs": [
    {
     "data": {
      "text/plain": [
       "0"
      ]
     },
     "execution_count": 3,
     "metadata": {},
     "output_type": "execute_result"
    }
   ],
   "source": [
    "len(X[X.isna().any(axis=1)])"
   ]
  },
  {
   "cell_type": "markdown",
   "metadata": {},
   "source": [
    "In this extension, we will only use the model of Hegre and Sambanis as it appeared with the first replication that it was the model with the best performance. Thus we have to create new feature vectors only containing the corresponding features."
   ]
  },
  {
   "cell_type": "code",
   "execution_count": 4,
   "metadata": {},
   "outputs": [],
   "source": [
    "HS_features = [\"lpopns\", \"ln_gdpen\", \"inst3\", \"parreg\", \"geo34\",\n",
    "    \"proxregc\", \"gdpgrowth\", \"anoc\", \"partfree\", \"nat_war\", \"lmtnest\",\n",
    "    \"decade1\", \"pol4sq\", \"nwstate\", \"regd4_alt\", \"etdo4590\", \"milper\", \"geo1\",\n",
    "    \"tnatwar\", \"presi\"]\n",
    "X_HS = X[HS_features]"
   ]
  },
  {
   "cell_type": "markdown",
   "metadata": {},
   "source": [
    "## 2. Training and comparing new classifiers\n",
    "\n",
    "We first create all the classifiers we are going to assess. These can all be imported from Scikit-Learn\n",
    "\n",
    "* Logistic regression : we choose to only compare the L2-regularized version\n",
    "* Gradient Boosted Classifier : This is the equivalent of Gradient Boosted Trees\n",
    "* Random Forest : We create a Random Forest of 1000 trees which have a maximum depth of 100\n",
    "* Multilayer Perceptron : Our Multilayer Perceptron has a single hidden layer of 100 neurons"
   ]
  },
  {
   "cell_type": "code",
   "execution_count": 5,
   "metadata": {},
   "outputs": [],
   "source": [
    "logistic_pen = LogisticRegression(penalty='l2', solver='lbfgs', max_iter=10000)\n",
    "gbc = GradientBoostingClassifier()\n",
    "random_forest = RandomForestClassifier(n_estimators=1000)\n",
    "mlp = MLPClassifier(max_iter = 1000)"
   ]
  },
  {
   "cell_type": "markdown",
   "metadata": {},
   "source": [
    "`draw_roc_on_ax` is a helper function that draws the ROC curve on the given `ax` given the false and true positive rates\n",
    "* `ax` : the figure to draw the ROC curve on\n",
    "* `fpr` : the false positive rates\n",
    "* `tpr` : the true positive rates\n",
    "* `model name` : the name of the model used to compute the true and false positive rates. This name will be displayed as legend"
   ]
  },
  {
   "cell_type": "code",
   "execution_count": 6,
   "metadata": {},
   "outputs": [],
   "source": [
    "def draw_roc_on_ax(ax, fpr, tpr, model_name):\n",
    "    # Compute the area under the fpt-tpf curve\n",
    "    auc_score = auc(fpr, tpr)\n",
    "    # Plotting results\n",
    "    ax.plot(fpr, tpr, label='{}: {:.2f}'.format(model_name, auc_score))"
   ]
  },
  {
   "cell_type": "markdown",
   "metadata": {},
   "source": [
    "`plot_multi_roc` plots multiple ROC curves on a 10-fold cross-validation given the following parameters :\n",
    "* titles : the figures' titles\n",
    "* logistic_methods : a list containing the logistic regression methods to be assessed with a ROC curve\n",
    "* logistic_models : a list containing the logistic regression models to be assessed with a ROC curve\n",
    "* logistic_models_names : a list containing the names logistic regression models\n",
    "* other_classifiers : a list of classifiers to assess alongside the logistic regressions\n",
    "* other_classifiers : a list of  the names of the classifiers to assess alongside the logistic regressions\n",
    "* other_classifiers_dataset : the dataset to be used with the other classifiers\n",
    "* y : the label vector to predict"
   ]
  },
  {
   "cell_type": "code",
   "execution_count": 7,
   "metadata": {},
   "outputs": [],
   "source": [
    "def plot_multi_roc(titles, logistic_methods, logistic_models, logistic_models_names, other_classifiers, other_classifiers_names, other_classifiers_dataset , y):\n",
    "    fig, axes = plt.subplots(1,len(logistic_methods), figsize=(len(logistic_methods)*6.5,5))\n",
    "    \n",
    "    # Computing random classifiers' prediction only once\n",
    "    classifiers_y_preds = []\n",
    "    for classifier_name, classifier in zip(other_classifiers_names, other_classifiers):\n",
    "        dataset = other_classifiers_dataset\n",
    "        \n",
    "        if classifier_name == \"Multilayer perceptron\":\n",
    "            scaler = StandardScaler()\n",
    "            scaler.fit(other_classifiers_dataset)\n",
    "            dataset = scaler.transform(other_classifiers_dataset)\n",
    "            \n",
    "        classifiers_y_preds.append((classifier_name, cross_val_predict(classifier, dataset, y, cv=10, method=\"predict_proba\")))\n",
    "    \n",
    "    if(len(logistic_methods)) > 1:\n",
    "        for ax, title, logistic_method in zip(axes.flatten(), titles, logistic_methods):\n",
    "            for classifier_name, classifier_y_pred in classifiers_y_preds:\n",
    "                fpr, tpr, _ = roc_curve(y, classifier_y_pred[:, 1])\n",
    "                draw_roc_on_ax(ax, fpr, tpr, classifier_name)\n",
    "            for logistic_model, logistic_model_name in zip(logistic_models, logistic_models_names):\n",
    "                y_pred = cross_val_predict(logistic_method, logistic_model, y, cv=10, method=\"predict_proba\")\n",
    "                # Compute the False Positive Rate and True Positive Rate\n",
    "                fpr, tpr, _ = roc_curve(y, y_pred[:, 1])\n",
    "                draw_roc_on_ax(ax, fpr, tpr, logistic_model_name)\n",
    "            ax.set_title(title)\n",
    "            ax.set_xlabel(\"False Positive Rate\")\n",
    "            ax.set_ylabel(\"True Positive Rate\")\n",
    "            ax.legend()\n",
    "    else:\n",
    "        for classifier_name, classifier_y_pred in classifiers_y_preds:\n",
    "            fpr, tpr, _ = roc_curve(y, classifier_y_pred[:, 1])\n",
    "            draw_roc_on_ax(axes, fpr, tpr, classifier_name)\n",
    "        for logistic_model, logistic_model_name in zip(logistic_models, logistic_models_names):\n",
    "            y_pred = cross_val_predict(logistic_methods[0], logistic_model, y, cv=10, method=\"predict_proba\")\n",
    "            # Compute the False Positive Rate and True Positive Rate\n",
    "            fpr, tpr, _ = roc_curve(y, y_pred[:, 1])\n",
    "            draw_roc_on_ax(axes, fpr, tpr, logistic_model_name)\n",
    "        axes.set_title(titles[0])\n",
    "        axes.set_xlabel(\"False Positive Rate\")\n",
    "        axes.set_ylabel(\"True Positive Rate\")\n",
    "        axes.legend()"
   ]
  },
  {
   "cell_type": "markdown",
   "metadata": {},
   "source": [
    "With the help of the above function `plot_multi_roc` we can now very easily plot the ROC curve of all classifiers we defined earlier"
   ]
  },
  {
   "cell_type": "code",
   "execution_count": 8,
   "metadata": {},
   "outputs": [
    {
     "data": {
      "image/png": "[encoded data removed]",
      "text/plain": [
       "<Figure size 468x360 with 1 Axes>"
      ]
     },
     "metadata": {
      "needs_background": "light"
     },
     "output_type": "display_data"
    }
   ],
   "source": [
    "# Methods\n",
    "titles = ['ROC curves']\n",
    "logistic_methods = [logistic_pen]\n",
    "\n",
    "# Models\n",
    "logistic_models = [X_HS]\n",
    "logistic_models_names = ['Hegre and Sambanis (Penalized Logits)']\n",
    "\n",
    "other_classifiers = [random_forest, gbc, mlp]\n",
    "other_classifiers_names = [\"Random Forest\", \"Gradient Boosting Classifier\", \"Multilayer perceptron\"]\n",
    "\n",
    "\n",
    "# Fitting models and plotting results\n",
    "plot_multi_roc(titles, logistic_methods, logistic_models, logistic_models_names, other_classifiers, other_classifiers_names, X, y)"
   ]
  },
  {
   "cell_type": "markdown",
   "metadata": {},
   "source": [
    "We define the function `compare_models_auc` that performs a Kolmogorov-Smirnov test wheter the AUC of the two input models are statistically different or not. The null hypothesis of this test is that the two distributions are equal.\n",
    "* model_1 : the first classifier to assess\n",
    "* model_dataset_1 : the dataset to be used with the first model\n",
    "* model_2 : the second classifier to assess\n",
    "* model_dataset_2 : the dataset to be used with the second model\n",
    "* cv : the number of folds in the cross validation step"
   ]
  },
  {
   "cell_type": "code",
   "execution_count": 9,
   "metadata": {},
   "outputs": [],
   "source": [
    "def compare_models_aucs(model_1, model_dataset_1, model_2, model_dataset_2, y, cv=10):\n",
    "    model_1_aucs = cross_val_score(model_1, model_dataset_1, y, cv=cv, scoring=\"roc_auc\")\n",
    "    model_2_aucs = cross_val_score(model_2, model_dataset_2, y, cv=cv, scoring='roc_auc')\n",
    "    return stats.kstest(model_1_aucs, model_2_aucs)"
   ]
  },
  {
   "cell_type": "markdown",
   "metadata": {},
   "source": [
    "We can now use this function to assess if the results we observe in the ROC curves figures are statistically significants. Our first observation is that the Gradient Boosted Classifier is performing a bit better than the random forest (0.01). This is **extremely** likely that the difference is not significant, but for completeness we still compare their distributions"
   ]
  },
  {
   "cell_type": "code",
   "execution_count": 10,
   "metadata": {},
   "outputs": [
    {
     "data": {
      "text/plain": [
       "KstestResult(statistic=0.2, pvalue=0.9944575548290717)"
      ]
     },
     "execution_count": 10,
     "metadata": {},
     "output_type": "execute_result"
    }
   ],
   "source": [
    "compare_models_aucs(gbc, X, random_forest, X, y)"
   ]
  },
  {
   "cell_type": "markdown",
   "metadata": {},
   "source": [
    "As the p-value is so high (almost 1), it is obvious that we cannot reject the null hypothesis that the 2 distributions are the same and thus we cannot assert that the Gradient Boosted Classifier performs better than the Random Forest.\n",
    "\n",
    "We will now test if the Gradient Boosted Classifier performs better than the Logistic Regression"
   ]
  },
  {
   "cell_type": "code",
   "execution_count": 11,
   "metadata": {},
   "outputs": [
    {
     "data": {
      "text/plain": [
       "KstestResult(statistic=0.7, pvalue=0.012340600575894691)"
      ]
     },
     "execution_count": 11,
     "metadata": {},
     "output_type": "execute_result"
    }
   ],
   "source": [
    "compare_models_aucs(gbc, X, logistic_pen, X_HS, y)"
   ]
  },
  {
   "cell_type": "markdown",
   "metadata": {},
   "source": [
    "With a p-value smaller than 0.05, we can reject the null hypothesis that the distributions are different. Thus we can assert that the Gradient Boosted Classifier performs better than the Logistic Regression.\n",
    "\n",
    "Concerning the MLP, we will not even make statistical tests as it appears obvious that it doesn't perform better than any other classifier"
   ]
  },
  {
   "cell_type": "markdown",
   "metadata": {},
   "source": [
    "## 3. Resampling data with SMOTE\n",
    "\n",
    "One second task is to use a resampling technique and study its effect on both the linear models and the random forest. Indeed, it may well be that the poor performance of linear models relative to random forest is due to the severe imbalance of the CWD (roughly a 1:100 ratio).\n",
    "To tackle this, we intend to use one of the most commonly used oversampling methods: the SMOTE (Synthetic Minority Oversampling Technique).\n",
    "\n",
    "The SMOTE creates new instances of the minority class, and makes use of the K-nearest neighbors procedure to do so. The algorithm loops through all the \"real\" minority class instances. At each iteration, it finds its K nearest neighbors, and then creates \"synthetic\" minority class instances in the interval between the \"real\" instance and its \"real\" neighbors, such that the new instances are convex combination of the original instance and one of its neighbors. The procedure can be visualised in the following images ([source](https://rikunert.com/SMOTE_explained)).\n",
    "\n",
    "<img src=\"img/SMOTE_1.png\" width=600>\n",
    "\n",
    "<img src=\"img/SMOTE_2.png\" width=600>\n",
    "\n",
    "\n",
    "In the cell below, we print the number of labels of each class before resampling them. Then we instantiate a SMOTE instance from `imblearn` and use it to resample the data. After this step we reprint the number of labels of each class and now observe that they are the same."
   ]
  },
  {
   "cell_type": "code",
   "execution_count": 12,
   "metadata": {},
   "outputs": [
    {
     "name": "stdout",
     "output_type": "stream",
     "text": [
      "Before SMOTE, counts of labels 'warstds' ('1': 116, '0': 7024\n",
      "After SMOTE, counts of labels 'warstds' ('1': 7024, '0': 7024\n"
     ]
    }
   ],
   "source": [
    "print(\"Before SMOTE, counts of labels 'warstds' ('1': {}, '0': {}\".format(sum(y==1), sum(y==0)))\n",
    "\n",
    "sm = SMOTE()\n",
    "X_res, y_res = sm.fit_sample(X, y.ravel())\n",
    "\n",
    "print(\"After SMOTE, counts of labels 'warstds' ('1': {}, '0': {}\".format(sum(y_res==1), sum(y_res==0)))"
   ]
  },
  {
   "cell_type": "markdown",
   "metadata": {},
   "source": [
    "We can now test whether training on this newly balanced data is enough to increase the predictive power of the Random Forest and the logistic regression in both normal and L2-penalized versions.\n",
    "\n",
    "For this, we split our data between a training and testing set, and then proceed to train each model twice: once on the raw training data and once on a SMOTE-resampled version. Both versions of each trained model are then tested on test set, which remained unbalanced. Testing is done by computing the F1 score."
   ]
  },
  {
   "cell_type": "code",
   "execution_count": 13,
   "metadata": {},
   "outputs": [
    {
     "data": {
      "image/png": "[encoded data removed]",
      "text/plain": [
       "<Figure size 432x288 with 1 Axes>"
      ]
     },
     "metadata": {
      "needs_background": "light"
     },
     "output_type": "display_data"
    }
   ],
   "source": [
    "# Creating the methods\n",
    "logistic = LogisticRegression(penalty='none', solver='lbfgs', max_iter=10000)\n",
    "logistic_pen = LogisticRegression(penalty='l2', solver='lbfgs', max_iter=10000)\n",
    "random_forest = RandomForestClassifier(n_estimators=400)\n",
    "\n",
    "# Methods\n",
    "methods_names = ['Uncorrected Logits', 'Penalized Logits', 'Random Forest']\n",
    "methods = [logistic, logistic_pen, random_forest]\n",
    "\n",
    "def pre_post_SMOTE_score(score, method, model_features, X_train, X_train_sm, y_train, y_train_sm, X_test, y_test):\n",
    "    \"\"\"\n",
    "    Obtain demanded score on test set for model trained on raw data, and for model trained on resampled data\n",
    "    \"\"\"\n",
    "    X_test = X_test[model_features]\n",
    "    \n",
    "    # 1. No resampling\n",
    "    X_train = X_train[model_features]\n",
    "    F1_raw = score(y_test, method.fit(X_train, y_train).predict(X_test))\n",
    "\n",
    "    # 2. Using SMOTE\n",
    "    X_train_sm = X_train_sm[model_features]\n",
    "    F1_sm = score(y_test, method.fit(X_train_sm, y_train_sm).predict(X_test))    \n",
    "\n",
    "    return F1_raw, F1_sm\n",
    "\n",
    "\n",
    "def score_sampling(score, methods, methods_names, nb_repeat):\n",
    "    \"\"\"\n",
    "    Train given methods on raw and SMOTE resampled data and compute score.\n",
    "    \"\"\"\n",
    "    # Storing results\n",
    "    pd_method = []\n",
    "    pd_sampling = []\n",
    "    pd_F1 = []\n",
    "    \n",
    "    for method_name, method in zip(methods_names, methods):        \n",
    "        # Storing F1 scores\n",
    "        F1s_raw = []\n",
    "        F1s_sm = []\n",
    "        \n",
    "        features = replication_features[1:] if method_name == 'Random Forest' else HS_features\n",
    "        \n",
    "        # Filling array\n",
    "        pd_method.extend([method_name for nb in range(nb_repeat*2)])\n",
    "\n",
    "        # Each method goes through the same splits\n",
    "        np.random.seed(23)\n",
    "        for i in range(nb_repeat):\n",
    "            X_train, X_test, y_train, y_test = train_test_split(X, y, test_size=0.2)\n",
    "\n",
    "            # Resampling train data with SMOTE\n",
    "            sm = SMOTE()\n",
    "            X_train_sm, y_train_sm = sm.fit_sample(X_train, y_train.ravel())\n",
    "            \n",
    "            # Compute scores\n",
    "            F1_raw, F1_sm = pre_post_SMOTE_score(score, method, features, X_train, X_train_sm, y_train, y_train_sm, X_test, y_test)\n",
    "            \n",
    "            # Filling arrays\n",
    "            pd_sampling.append('Raw')\n",
    "            pd_F1.append(F1_raw)\n",
    "            pd_sampling.append('SMOTE')\n",
    "            pd_F1.append(F1_sm)\n",
    "        \n",
    "    results = pd.DataFrame(columns=['Model', 'Sampling', 'F1'])\n",
    "    results['Model'] = pd_method\n",
    "    results['Sampling'] = pd_sampling\n",
    "    results['F1'] = pd_F1\n",
    "    sns.barplot(x='Model', y='F1', hue='Sampling', data=results)\n",
    "    return results\n",
    "\n",
    "results = score_sampling(f1_score, methods, methods_names, nb_repeat=40)"
   ]
  },
  {
   "cell_type": "markdown",
   "metadata": {},
   "source": [
    "From the above graph, we observe that the usage of SMOTE indeed improved the F1-Score of each classifier, and that each improvement is statistically significant. However, one should notice that these F1-scores are still low (below 0.2) and thus the predictions are still not very accurate."
   ]
  },
  {
   "cell_type": "markdown",
   "metadata": {},
   "source": [
    "# Urban Social Disorder extension\n",
    "\n",
    "For the third task of this extension, we will explore how well the features of the CWD can predict a measure of urban unrest taken from the Urban Social Disorder (USD) dataset ([source](https://www.prio.org/Data/Armed-Conflict/Urban-Social-Disorder/)). This dataset is detailed more extensively in the report."
   ]
  },
  {
   "cell_type": "markdown",
   "metadata": {},
   "source": [
    "## Loading the data\n",
    "\n",
    "We load the dataset using pandas' `read_excel` method. We will only use three columns : \n",
    "\n",
    "* GWNO : code of a country. It is equivalent to the column `cowcode` of the CWD\n",
    "* BYEAR : the beginning year of the event\n",
    "* PTYPE : The \"Problem Type\" of the event. Description from the codebook :\n",
    "Identifies the general level and type of event according to the following list of values.\n",
    "While the PTYPE variable is considered to be a nominal variable, it is structured\n",
    "with some sense of ordinal ranking of societal conflict magnitude (based on degree\n",
    "of institutionalization of political activity).\n",
    "    * 10 General Warfare\n",
    "    * 20 Inter-communal Warfare\n",
    "    * 30 Armed Battle/Clash\n",
    "    * 31 Armed Attack\n",
    "    * 40 Pro-Government Terrorism (Repression)\n",
    "    * 41 Anti-Government Terrorism\n",
    "    * 42 Communal Terrorism\n",
    "    * 50 Organized Violent Riot\n",
    "    * 51 Spontaneous Violent Riot\n",
    "    * 60 Organized Demonstration\n",
    "    * 61 Pro-Government Demonstration\n",
    "    * 62 Spontaneous Demonstration\n",
    "    * 70 Other\n",
    "    \n",
    "The `GWNO` and `BYEAR` will help us to merge this dataset with the CWD and the `PTYPE` will make the measure of urban unrest.\n",
    "\n",
    "\n",
    "For this extension, we will not care about Problem types 60, 61, 62, 70 as these are peaceful events. We want instead to focus on the violent ones. Moreover, as we only care to measure whether there has been any social unrest during a particular year, we can drop all duplicates with respect to the year and country code. As the CWD ends in 2000, we can also crop the USD at that time.\n",
    "Finally, we add a new column that will contain a dummy variable. A 1 indicates that there has been some social unrest in this country during this particular year."
   ]
  },
  {
   "cell_type": "code",
   "execution_count": 14,
   "metadata": {},
   "outputs": [
    {
     "data": {
      "text/html": [
       "<div>\n",
       "<style scoped>\n",
       "    .dataframe tbody tr th:only-of-type {\n",
       "        vertical-align: middle;\n",
       "    }\n",
       "\n",
       "    .dataframe tbody tr th {\n",
       "        vertical-align: top;\n",
       "    }\n",
       "\n",
       "    .dataframe thead th {\n",
       "        text-align: right;\n",
       "    }\n",
       "</style>\n",
       "<table border=\"1\" class=\"dataframe\">\n",
       "  <thead>\n",
       "    <tr style=\"text-align: right;\">\n",
       "      <th></th>\n",
       "      <th>GWNO</th>\n",
       "      <th>PTYPE</th>\n",
       "      <th>BYEAR</th>\n",
       "      <th>social_unrest</th>\n",
       "    </tr>\n",
       "  </thead>\n",
       "  <tbody>\n",
       "    <tr>\n",
       "      <th>5</th>\n",
       "      <td>437</td>\n",
       "      <td>51</td>\n",
       "      <td>1985</td>\n",
       "      <td>1</td>\n",
       "    </tr>\n",
       "    <tr>\n",
       "      <th>10</th>\n",
       "      <td>437</td>\n",
       "      <td>31</td>\n",
       "      <td>1990</td>\n",
       "      <td>1</td>\n",
       "    </tr>\n",
       "    <tr>\n",
       "      <th>16</th>\n",
       "      <td>437</td>\n",
       "      <td>31</td>\n",
       "      <td>1991</td>\n",
       "      <td>1</td>\n",
       "    </tr>\n",
       "    <tr>\n",
       "      <th>19</th>\n",
       "      <td>437</td>\n",
       "      <td>31</td>\n",
       "      <td>1993</td>\n",
       "      <td>1</td>\n",
       "    </tr>\n",
       "    <tr>\n",
       "      <th>24</th>\n",
       "      <td>437</td>\n",
       "      <td>51</td>\n",
       "      <td>1995</td>\n",
       "      <td>1</td>\n",
       "    </tr>\n",
       "  </tbody>\n",
       "</table>\n",
       "</div>"
      ],
      "text/plain": [
       "    GWNO  PTYPE  BYEAR  social_unrest\n",
       "5    437     51   1985              1\n",
       "10   437     31   1990              1\n",
       "16   437     31   1991              1\n",
       "19   437     31   1993              1\n",
       "24   437     51   1995              1"
      ]
     },
     "execution_count": 14,
     "metadata": {},
     "output_type": "execute_result"
    }
   ],
   "source": [
    "usd = pd.read_excel(\"data/events.xlsx\", usecols = [\"GWNO\", \"BYEAR\", \"PTYPE\"])\n",
    "usd = usd[usd[\"PTYPE\"].isin([60, 61, 62]) == False].drop_duplicates(subset=[\"BYEAR\", \"GWNO\"])\n",
    "usd = usd[usd['BYEAR'] <= 2000]\n",
    "usd[\"social_unrest\"] = 1\n",
    "usd.head(5)"
   ]
  },
  {
   "cell_type": "markdown",
   "metadata": {},
   "source": [
    "To merge the CWD with the PRIO dataset, we need to add the `cowcode` and `year` features to the CWD. Hence we have to reload it with these new features.\n",
    "\n",
    "Then we can merge the two datasets. before doing so, we crop the CWD to not consider the data before 1960 as this is the starting date of the USD. Then, as we wish to keep all entry points of the CWD, we perform a left join. The NaN values are set to 0 as it means that there was no conflict in a year in a country."
   ]
  },
  {
   "cell_type": "code",
   "execution_count": 15,
   "metadata": {},
   "outputs": [
    {
     "data": {
      "text/html": [
       "<div>\n",
       "<style scoped>\n",
       "    .dataframe tbody tr th:only-of-type {\n",
       "        vertical-align: middle;\n",
       "    }\n",
       "\n",
       "    .dataframe tbody tr th {\n",
       "        vertical-align: top;\n",
       "    }\n",
       "\n",
       "    .dataframe thead th {\n",
       "        text-align: right;\n",
       "    }\n",
       "</style>\n",
       "<table border=\"1\" class=\"dataframe\">\n",
       "  <thead>\n",
       "    <tr style=\"text-align: right;\">\n",
       "      <th></th>\n",
       "      <th>warstds</th>\n",
       "      <th>ptime</th>\n",
       "      <th>autonomy</th>\n",
       "      <th>popdense</th>\n",
       "      <th>army85</th>\n",
       "      <th>milper</th>\n",
       "      <th>trade</th>\n",
       "      <th>nmgdp</th>\n",
       "      <th>autch98</th>\n",
       "      <th>demch98</th>\n",
       "      <th>...</th>\n",
       "      <th>mirps2</th>\n",
       "      <th>mirps3</th>\n",
       "      <th>sxpsq</th>\n",
       "      <th>pol4sq</th>\n",
       "      <th>decade1</th>\n",
       "      <th>decade2</th>\n",
       "      <th>decade3</th>\n",
       "      <th>decade4</th>\n",
       "      <th>proxregc</th>\n",
       "      <th>social_unrest</th>\n",
       "    </tr>\n",
       "  </thead>\n",
       "  <tbody>\n",
       "    <tr>\n",
       "      <th>0</th>\n",
       "      <td>0</td>\n",
       "      <td>192</td>\n",
       "      <td>0.0</td>\n",
       "      <td>117.804310</td>\n",
       "      <td>129057.9163</td>\n",
       "      <td>118.807096</td>\n",
       "      <td>72.699552</td>\n",
       "      <td>1383.666626</td>\n",
       "      <td>0</td>\n",
       "      <td>0</td>\n",
       "      <td>...</td>\n",
       "      <td>1.0</td>\n",
       "      <td>0.0</td>\n",
       "      <td>0.052972</td>\n",
       "      <td>100.0</td>\n",
       "      <td>1</td>\n",
       "      <td>0</td>\n",
       "      <td>0</td>\n",
       "      <td>0</td>\n",
       "      <td>3.010000e-36</td>\n",
       "      <td>0.0</td>\n",
       "    </tr>\n",
       "    <tr>\n",
       "      <th>1</th>\n",
       "      <td>0</td>\n",
       "      <td>204</td>\n",
       "      <td>0.0</td>\n",
       "      <td>15.661860</td>\n",
       "      <td>47000.0000</td>\n",
       "      <td>60.000000</td>\n",
       "      <td>11.157030</td>\n",
       "      <td>1324.000000</td>\n",
       "      <td>0</td>\n",
       "      <td>0</td>\n",
       "      <td>...</td>\n",
       "      <td>1.0</td>\n",
       "      <td>0.0</td>\n",
       "      <td>0.052912</td>\n",
       "      <td>100.0</td>\n",
       "      <td>1</td>\n",
       "      <td>0</td>\n",
       "      <td>0</td>\n",
       "      <td>0</td>\n",
       "      <td>7.520000e-37</td>\n",
       "      <td>0.0</td>\n",
       "    </tr>\n",
       "    <tr>\n",
       "      <th>2</th>\n",
       "      <td>0</td>\n",
       "      <td>216</td>\n",
       "      <td>0.0</td>\n",
       "      <td>15.982750</td>\n",
       "      <td>47000.0000</td>\n",
       "      <td>77.000000</td>\n",
       "      <td>12.550610</td>\n",
       "      <td>1351.333374</td>\n",
       "      <td>0</td>\n",
       "      <td>0</td>\n",
       "      <td>...</td>\n",
       "      <td>1.0</td>\n",
       "      <td>0.0</td>\n",
       "      <td>0.052754</td>\n",
       "      <td>100.0</td>\n",
       "      <td>1</td>\n",
       "      <td>0</td>\n",
       "      <td>0</td>\n",
       "      <td>0</td>\n",
       "      <td>1.880000e-37</td>\n",
       "      <td>0.0</td>\n",
       "    </tr>\n",
       "    <tr>\n",
       "      <th>3</th>\n",
       "      <td>0</td>\n",
       "      <td>228</td>\n",
       "      <td>0.0</td>\n",
       "      <td>16.321039</td>\n",
       "      <td>47000.0000</td>\n",
       "      <td>90.000000</td>\n",
       "      <td>14.227640</td>\n",
       "      <td>1366.333374</td>\n",
       "      <td>0</td>\n",
       "      <td>0</td>\n",
       "      <td>...</td>\n",
       "      <td>1.0</td>\n",
       "      <td>0.0</td>\n",
       "      <td>0.052624</td>\n",
       "      <td>100.0</td>\n",
       "      <td>1</td>\n",
       "      <td>0</td>\n",
       "      <td>0</td>\n",
       "      <td>0</td>\n",
       "      <td>4.700000e-38</td>\n",
       "      <td>0.0</td>\n",
       "    </tr>\n",
       "    <tr>\n",
       "      <th>4</th>\n",
       "      <td>0</td>\n",
       "      <td>240</td>\n",
       "      <td>0.0</td>\n",
       "      <td>16.675520</td>\n",
       "      <td>47000.0000</td>\n",
       "      <td>100.000000</td>\n",
       "      <td>26.035509</td>\n",
       "      <td>1451.333374</td>\n",
       "      <td>0</td>\n",
       "      <td>0</td>\n",
       "      <td>...</td>\n",
       "      <td>1.0</td>\n",
       "      <td>0.0</td>\n",
       "      <td>0.052699</td>\n",
       "      <td>100.0</td>\n",
       "      <td>1</td>\n",
       "      <td>0</td>\n",
       "      <td>0</td>\n",
       "      <td>0</td>\n",
       "      <td>1.180000e-38</td>\n",
       "      <td>0.0</td>\n",
       "    </tr>\n",
       "  </tbody>\n",
       "</table>\n",
       "<p>5 rows × 92 columns</p>\n",
       "</div>"
      ],
      "text/plain": [
       "   warstds  ptime  autonomy    popdense       army85      milper      trade  \\\n",
       "0        0    192       0.0  117.804310  129057.9163  118.807096  72.699552   \n",
       "1        0    204       0.0   15.661860   47000.0000   60.000000  11.157030   \n",
       "2        0    216       0.0   15.982750   47000.0000   77.000000  12.550610   \n",
       "3        0    228       0.0   16.321039   47000.0000   90.000000  14.227640   \n",
       "4        0    240       0.0   16.675520   47000.0000  100.000000  26.035509   \n",
       "\n",
       "         nmgdp  autch98  demch98  ...  mirps2  mirps3     sxpsq  pol4sq  \\\n",
       "0  1383.666626        0        0  ...     1.0     0.0  0.052972   100.0   \n",
       "1  1324.000000        0        0  ...     1.0     0.0  0.052912   100.0   \n",
       "2  1351.333374        0        0  ...     1.0     0.0  0.052754   100.0   \n",
       "3  1366.333374        0        0  ...     1.0     0.0  0.052624   100.0   \n",
       "4  1451.333374        0        0  ...     1.0     0.0  0.052699   100.0   \n",
       "\n",
       "   decade1  decade2  decade3  decade4      proxregc  social_unrest  \n",
       "0        1        0        0        0  3.010000e-36            0.0  \n",
       "1        1        0        0        0  7.520000e-37            0.0  \n",
       "2        1        0        0        0  1.880000e-37            0.0  \n",
       "3        1        0        0        0  4.700000e-38            0.0  \n",
       "4        1        0        0        0  1.180000e-38            0.0  \n",
       "\n",
       "[5 rows x 92 columns]"
      ]
     },
     "execution_count": 15,
     "metadata": {},
     "output_type": "execute_result"
    }
   ],
   "source": [
    "cwd = pd.read_csv('data/SambnisImp.csv', usecols=(replication_features + [\"cowcode\", \"year\"]))\n",
    "cwd_and_usd = pd.merge(cwd[cwd[\"year\"] >= 1960], usd, left_on = [\"cowcode\", \"year\"], right_on = [\"GWNO\", \"BYEAR\"], how=\"left\").drop([\"GWNO\", \"BYEAR\", \"cowcode\", \"year\", \"PTYPE\"], axis = 1).fillna(0)\n",
    "cwd_and_usd.head(5)"
   ]
  },
  {
   "cell_type": "markdown",
   "metadata": {},
   "source": [
    "Let's just see the distributions of entries that have social unrest"
   ]
  },
  {
   "cell_type": "code",
   "execution_count": 16,
   "metadata": {},
   "outputs": [
    {
     "data": {
      "text/plain": [
       "0.0    4677\n",
       "1.0    1285\n",
       "Name: social_unrest, dtype: int64"
      ]
     },
     "execution_count": 16,
     "metadata": {},
     "output_type": "execute_result"
    }
   ],
   "source": [
    "cwd_and_usd[\"social_unrest\"].value_counts()"
   ]
  },
  {
   "cell_type": "markdown",
   "metadata": {},
   "source": [
    "One fear of this extension was that social unrest was extremely correlated with civil war onsets. This would have meant that making predictions on this new feature would have brought nothing new. Hopefully the cell below shows that the correlation between the two is very weak."
   ]
  },
  {
   "cell_type": "code",
   "execution_count": 18,
   "metadata": {},
   "outputs": [
    {
     "data": {
      "text/plain": [
       "0.08735761277661097"
      ]
     },
     "execution_count": 18,
     "metadata": {},
     "output_type": "execute_result"
    }
   ],
   "source": [
    "cwd_and_usd[\"warstds\"].corr(cwd_and_usd[\"social_unrest\"])"
   ]
  },
  {
   "cell_type": "markdown",
   "metadata": {},
   "source": [
    "Finally, we are able to assess the predictions of all of our classifiers for the social unrest feature. For that, we again plot the ROC curves."
   ]
  },
  {
   "cell_type": "code",
   "execution_count": 19,
   "metadata": {},
   "outputs": [
    {
     "data": {
      "image/png": "[encoded data removed]",
      "text/plain": [
       "<Figure size 468x360 with 1 Axes>"
      ]
     },
     "metadata": {
      "needs_background": "light"
     },
     "output_type": "display_data"
    }
   ],
   "source": [
    "#Hegre and Sambanis (2006) \n",
    "X_HS_unrest  =  cwd_and_usd[HS_features]\n",
    "\n",
    "X_unrest = cwd_and_usd.drop([\"social_unrest\", \"warstds\"], axis = 1)\n",
    "y_unrest = cwd_and_usd[\"social_unrest\"]\n",
    "\n",
    "# Methods\n",
    "titles = ['ROC curves']\n",
    "logistic_methods = [logistic_pen]\n",
    "\n",
    "# Models\n",
    "logistic_models = [X_HS_unrest]\n",
    "logistic_models_names = ['Hegre and Sambanis (Penalized Logits)']\n",
    "\n",
    "other_classifiers = [random_forest, gbc, mlp]\n",
    "other_classifiers_names = [\"Random Forest\", \"Gradient Boosting Classifier\", \"Multilayer perceptron\"]\n",
    "\n",
    "\n",
    "# Fitting models and plotting results\n",
    "plot_multi_roc(titles, logistic_methods, logistic_models, logistic_models_names, other_classifiers, other_classifiers_names, X_unrest, y_unrest)"
   ]
  },
  {
   "cell_type": "markdown",
   "metadata": {},
   "source": [
    "From the above plot, we observe that all classifiers perform somewhat similarly for this prediction, but that the predictions are overall not very good with the best AUC at 0.81. Surprisingly, this best AUC is achieved by the Linear Regression model of Hegre and Sambanis"
   ]
  }
 ],
 "metadata": {
  "kernelspec": {
   "display_name": "Python 3",
   "language": "python",
   "name": "python3"
  },
  "language_info": {
   "codemirror_mode": {
    "name": "ipython",
    "version": 3
   },
   "file_extension": ".py",
   "mimetype": "text/x-python",
   "name": "python",
   "nbconvert_exporter": "python",
   "pygments_lexer": "ipython3",
   "version": "3.8.3"
  }
 },
 "nbformat": 4,
 "nbformat_minor": 4
}
